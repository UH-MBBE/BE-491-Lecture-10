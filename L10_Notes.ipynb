{
 "cells": [
  {
   "cell_type": "markdown",
   "metadata": {},
   "source": [
    "# Lecture 10 Full ML process"
   ]
  },
  {
   "cell_type": "markdown",
   "metadata": {},
   "source": [
    "![Machine learning diagram](./ml_diagram.png)"
   ]
  },
  {
   "cell_type": "markdown",
   "metadata": {},
   "source": [
    "### First, set up a virtual environment (venv)\n",
    "\n",
    "In the terminal (or command line interface), run this command to create a virtual environment: `python -m venv venv`\n",
    "\n",
    "To start the virtual environment with a mac (or the git bash shell on windows) run the command: `source venv/bin/activate`\n",
    "\n",
    "Check which python environment you are in using the command: `which python`\n",
    "\n",
    "The purpose of virtual environments is to allow you to install different versions of python packages for different projects on your computer. I recommend setting up a virtual environment before installing Python packages."
   ]
  },
  {
   "cell_type": "markdown",
   "metadata": {},
   "source": [
    "### Install the dependencies\n",
    "\n",
    "Run the commands:\n",
    "\n",
    "`pip install pandas`\n",
    "\n",
    "`pip install scikit-learn`\n",
    "\n",
    "`pip install matplotlib`\n"
   ]
  },
  {
   "cell_type": "markdown",
   "metadata": {},
   "source": [
    "### Set up imports"
   ]
  },
  {
   "cell_type": "code",
   "execution_count": 1,
   "metadata": {},
   "outputs": [
    {
     "name": "stderr",
     "output_type": "stream",
     "text": [
      "/var/folders/rt/6n0vbsp923xg2bbmtt_k12900000gn/T/ipykernel_73795/408836033.py:2: DeprecationWarning: \n",
      "Pyarrow will become a required dependency of pandas in the next major release of pandas (pandas 3.0),\n",
      "(to allow more performant data types, such as the Arrow string type, and better interoperability with other libraries)\n",
      "but was not found to be installed on your system.\n",
      "If this would cause problems for you,\n",
      "please provide us feedback at https://github.com/pandas-dev/pandas/issues/54466\n",
      "        \n",
      "  import pandas as pd\n"
     ]
    }
   ],
   "source": [
    "# import pandas, matplotlib, and the neccessary functions from scikit-learn\n",
    "import pandas as pd\n",
    "from sklearn.compose import ColumnTransformer\n",
    "from sklearn.preprocessing import OneHotEncoder\n",
    "from sklearn.model_selection import train_test_split, GridSearchCV\n",
    "from sklearn.ensemble import RandomForestClassifier\n",
    "import matplotlib.pyplot as plt"
   ]
  },
  {
   "cell_type": "markdown",
   "metadata": {},
   "source": [
    "### Load dataset"
   ]
  },
  {
   "cell_type": "code",
   "execution_count": 3,
   "metadata": {},
   "outputs": [
    {
     "data": {
      "text/html": [
       "<div>\n",
       "<style scoped>\n",
       "    .dataframe tbody tr th:only-of-type {\n",
       "        vertical-align: middle;\n",
       "    }\n",
       "\n",
       "    .dataframe tbody tr th {\n",
       "        vertical-align: top;\n",
       "    }\n",
       "\n",
       "    .dataframe thead th {\n",
       "        text-align: right;\n",
       "    }\n",
       "</style>\n",
       "<table border=\"1\" class=\"dataframe\">\n",
       "  <thead>\n",
       "    <tr style=\"text-align: right;\">\n",
       "      <th></th>\n",
       "      <th>Age</th>\n",
       "      <th>Gender</th>\n",
       "      <th>Smoking</th>\n",
       "      <th>Hx Smoking</th>\n",
       "      <th>Hx Radiothreapy</th>\n",
       "      <th>Thyroid Function</th>\n",
       "      <th>Physical Examination</th>\n",
       "      <th>Adenopathy</th>\n",
       "      <th>Pathology</th>\n",
       "      <th>Focality</th>\n",
       "      <th>Risk</th>\n",
       "      <th>T</th>\n",
       "      <th>N</th>\n",
       "      <th>M</th>\n",
       "      <th>Stage</th>\n",
       "      <th>Response</th>\n",
       "      <th>Recurred</th>\n",
       "    </tr>\n",
       "  </thead>\n",
       "  <tbody>\n",
       "    <tr>\n",
       "      <th>0</th>\n",
       "      <td>27</td>\n",
       "      <td>F</td>\n",
       "      <td>No</td>\n",
       "      <td>No</td>\n",
       "      <td>No</td>\n",
       "      <td>Euthyroid</td>\n",
       "      <td>Single nodular goiter-left</td>\n",
       "      <td>No</td>\n",
       "      <td>Micropapillary</td>\n",
       "      <td>Uni-Focal</td>\n",
       "      <td>Low</td>\n",
       "      <td>T1a</td>\n",
       "      <td>N0</td>\n",
       "      <td>M0</td>\n",
       "      <td>I</td>\n",
       "      <td>Indeterminate</td>\n",
       "      <td>No</td>\n",
       "    </tr>\n",
       "    <tr>\n",
       "      <th>1</th>\n",
       "      <td>34</td>\n",
       "      <td>F</td>\n",
       "      <td>No</td>\n",
       "      <td>Yes</td>\n",
       "      <td>No</td>\n",
       "      <td>Euthyroid</td>\n",
       "      <td>Multinodular goiter</td>\n",
       "      <td>No</td>\n",
       "      <td>Micropapillary</td>\n",
       "      <td>Uni-Focal</td>\n",
       "      <td>Low</td>\n",
       "      <td>T1a</td>\n",
       "      <td>N0</td>\n",
       "      <td>M0</td>\n",
       "      <td>I</td>\n",
       "      <td>Excellent</td>\n",
       "      <td>No</td>\n",
       "    </tr>\n",
       "    <tr>\n",
       "      <th>2</th>\n",
       "      <td>30</td>\n",
       "      <td>F</td>\n",
       "      <td>No</td>\n",
       "      <td>No</td>\n",
       "      <td>No</td>\n",
       "      <td>Euthyroid</td>\n",
       "      <td>Single nodular goiter-right</td>\n",
       "      <td>No</td>\n",
       "      <td>Micropapillary</td>\n",
       "      <td>Uni-Focal</td>\n",
       "      <td>Low</td>\n",
       "      <td>T1a</td>\n",
       "      <td>N0</td>\n",
       "      <td>M0</td>\n",
       "      <td>I</td>\n",
       "      <td>Excellent</td>\n",
       "      <td>No</td>\n",
       "    </tr>\n",
       "    <tr>\n",
       "      <th>3</th>\n",
       "      <td>62</td>\n",
       "      <td>F</td>\n",
       "      <td>No</td>\n",
       "      <td>No</td>\n",
       "      <td>No</td>\n",
       "      <td>Euthyroid</td>\n",
       "      <td>Single nodular goiter-right</td>\n",
       "      <td>No</td>\n",
       "      <td>Micropapillary</td>\n",
       "      <td>Uni-Focal</td>\n",
       "      <td>Low</td>\n",
       "      <td>T1a</td>\n",
       "      <td>N0</td>\n",
       "      <td>M0</td>\n",
       "      <td>I</td>\n",
       "      <td>Excellent</td>\n",
       "      <td>No</td>\n",
       "    </tr>\n",
       "    <tr>\n",
       "      <th>4</th>\n",
       "      <td>62</td>\n",
       "      <td>F</td>\n",
       "      <td>No</td>\n",
       "      <td>No</td>\n",
       "      <td>No</td>\n",
       "      <td>Euthyroid</td>\n",
       "      <td>Multinodular goiter</td>\n",
       "      <td>No</td>\n",
       "      <td>Micropapillary</td>\n",
       "      <td>Multi-Focal</td>\n",
       "      <td>Low</td>\n",
       "      <td>T1a</td>\n",
       "      <td>N0</td>\n",
       "      <td>M0</td>\n",
       "      <td>I</td>\n",
       "      <td>Excellent</td>\n",
       "      <td>No</td>\n",
       "    </tr>\n",
       "  </tbody>\n",
       "</table>\n",
       "</div>"
      ],
      "text/plain": [
       "   Age Gender Smoking Hx Smoking Hx Radiothreapy Thyroid Function  \\\n",
       "0   27      F      No         No              No        Euthyroid   \n",
       "1   34      F      No        Yes              No        Euthyroid   \n",
       "2   30      F      No         No              No        Euthyroid   \n",
       "3   62      F      No         No              No        Euthyroid   \n",
       "4   62      F      No         No              No        Euthyroid   \n",
       "\n",
       "          Physical Examination Adenopathy       Pathology     Focality Risk  \\\n",
       "0   Single nodular goiter-left         No  Micropapillary    Uni-Focal  Low   \n",
       "1          Multinodular goiter         No  Micropapillary    Uni-Focal  Low   \n",
       "2  Single nodular goiter-right         No  Micropapillary    Uni-Focal  Low   \n",
       "3  Single nodular goiter-right         No  Micropapillary    Uni-Focal  Low   \n",
       "4          Multinodular goiter         No  Micropapillary  Multi-Focal  Low   \n",
       "\n",
       "     T   N   M Stage       Response Recurred  \n",
       "0  T1a  N0  M0     I  Indeterminate       No  \n",
       "1  T1a  N0  M0     I      Excellent       No  \n",
       "2  T1a  N0  M0     I      Excellent       No  \n",
       "3  T1a  N0  M0     I      Excellent       No  \n",
       "4  T1a  N0  M0     I      Excellent       No  "
      ]
     },
     "execution_count": 3,
     "metadata": {},
     "output_type": "execute_result"
    }
   ],
   "source": [
    "# Load the dataset using pandas and the read_csv function\n",
    "thyroid_df = pd.read_csv('data/thyroid_data.csv')\n",
    "\n",
    "thyroid_df.head()"
   ]
  },
  {
   "cell_type": "code",
   "execution_count": 4,
   "metadata": {},
   "outputs": [
    {
     "data": {
      "text/plain": [
       "(383, 17)"
      ]
     },
     "execution_count": 4,
     "metadata": {},
     "output_type": "execute_result"
    }
   ],
   "source": [
    "# inspect the shape of the dataframe\n",
    "thyroid_df.shape"
   ]
  },
  {
   "cell_type": "code",
   "execution_count": 6,
   "metadata": {},
   "outputs": [
    {
     "data": {
      "text/plain": [
       "Recurred\n",
       "No     275\n",
       "Yes    108\n",
       "Name: count, dtype: int64"
      ]
     },
     "execution_count": 6,
     "metadata": {},
     "output_type": "execute_result"
    }
   ],
   "source": [
    "# inspect the fraction of rows where Recurred is 'Yes' or 'No' using the value_counts method\n",
    "thyroid_df['Recurred'].value_counts()"
   ]
  },
  {
   "cell_type": "markdown",
   "metadata": {},
   "source": [
    "### Data preprocessing (one hot encoding)\n",
    "Transform categorical features into a ML-compatible format"
   ]
  },
  {
   "cell_type": "code",
   "execution_count": 7,
   "metadata": {},
   "outputs": [
    {
     "data": {
      "text/plain": [
       "['Gender',\n",
       " 'Smoking',\n",
       " 'Hx Smoking',\n",
       " 'Hx Radiothreapy',\n",
       " 'Thyroid Function',\n",
       " 'Physical Examination',\n",
       " 'Adenopathy',\n",
       " 'Pathology',\n",
       " 'Focality',\n",
       " 'Risk',\n",
       " 'T',\n",
       " 'N',\n",
       " 'M',\n",
       " 'Stage',\n",
       " 'Response']"
      ]
     },
     "execution_count": 7,
     "metadata": {},
     "output_type": "execute_result"
    }
   ],
   "source": [
    "# make a list of the columns names of categorical features\n",
    "columns_to_exclude = ['Age', 'Recurred']\n",
    "\n",
    "categorical_columns = [col for col in thyroid_df.columns if col not in columns_to_exclude]\n",
    "\n",
    "categorical_columns"
   ]
  },
  {
   "cell_type": "code",
   "execution_count": 9,
   "metadata": {},
   "outputs": [
    {
     "data": {
      "text/plain": [
       "numpy.ndarray"
      ]
     },
     "execution_count": 9,
     "metadata": {},
     "output_type": "execute_result"
    }
   ],
   "source": [
    "# Define a scikit learn column transformer that will encode the categorical columns using the OneHotEncoder\n",
    "\n",
    "column_transformer = ColumnTransformer(\n",
    "  transformers=[\n",
    "    ('encoder', OneHotEncoder(), categorical_columns)\n",
    "  ],\n",
    "  remainder='passthrough'\n",
    ")\n",
    "\n",
    "# apply transformer\n",
    "transformed_data = column_transformer.fit_transform(thyroid_df)\n",
    "\n",
    "type(transformed_data)"
   ]
  },
  {
   "cell_type": "code",
   "execution_count": 10,
   "metadata": {},
   "outputs": [
    {
     "data": {
      "text/plain": [
       "array(['Gender_F', 'Gender_M', 'Smoking_No', 'Smoking_Yes',\n",
       "       'Hx Smoking_No', 'Hx Smoking_Yes', 'Hx Radiothreapy_No',\n",
       "       'Hx Radiothreapy_Yes', 'Thyroid Function_Clinical Hyperthyroidism',\n",
       "       'Thyroid Function_Clinical Hypothyroidism',\n",
       "       'Thyroid Function_Euthyroid',\n",
       "       'Thyroid Function_Subclinical Hyperthyroidism',\n",
       "       'Thyroid Function_Subclinical Hypothyroidism',\n",
       "       'Physical Examination_Diffuse goiter',\n",
       "       'Physical Examination_Multinodular goiter',\n",
       "       'Physical Examination_Normal',\n",
       "       'Physical Examination_Single nodular goiter-left',\n",
       "       'Physical Examination_Single nodular goiter-right',\n",
       "       'Adenopathy_Bilateral', 'Adenopathy_Extensive', 'Adenopathy_Left',\n",
       "       'Adenopathy_No', 'Adenopathy_Posterior', 'Adenopathy_Right',\n",
       "       'Pathology_Follicular', 'Pathology_Hurthel cell',\n",
       "       'Pathology_Micropapillary', 'Pathology_Papillary',\n",
       "       'Focality_Multi-Focal', 'Focality_Uni-Focal', 'Risk_High',\n",
       "       'Risk_Intermediate', 'Risk_Low', 'T_T1a', 'T_T1b', 'T_T2', 'T_T3a',\n",
       "       'T_T3b', 'T_T4a', 'T_T4b', 'N_N0', 'N_N1a', 'N_N1b', 'M_M0',\n",
       "       'M_M1', 'Stage_I', 'Stage_II', 'Stage_III', 'Stage_IVA',\n",
       "       'Stage_IVB', 'Response_Biochemical Incomplete',\n",
       "       'Response_Excellent', 'Response_Indeterminate',\n",
       "       'Response_Structural Incomplete'], dtype=object)"
      ]
     },
     "execution_count": 10,
     "metadata": {},
     "output_type": "execute_result"
    }
   ],
   "source": [
    "# get the names of the encoded features using the get_feature_names_out function\n",
    "encoded_feature_names = column_transformer.named_transformers_['encoder'].get_feature_names_out(categorical_columns)\n",
    "\n",
    "encoded_feature_names"
   ]
  },
  {
   "cell_type": "code",
   "execution_count": 11,
   "metadata": {},
   "outputs": [
    {
     "data": {
      "text/plain": [
       "['Gender_F',\n",
       " 'Gender_M',\n",
       " 'Smoking_No',\n",
       " 'Smoking_Yes',\n",
       " 'Hx Smoking_No',\n",
       " 'Hx Smoking_Yes',\n",
       " 'Hx Radiothreapy_No',\n",
       " 'Hx Radiothreapy_Yes',\n",
       " 'Thyroid Function_Clinical Hyperthyroidism',\n",
       " 'Thyroid Function_Clinical Hypothyroidism',\n",
       " 'Thyroid Function_Euthyroid',\n",
       " 'Thyroid Function_Subclinical Hyperthyroidism',\n",
       " 'Thyroid Function_Subclinical Hypothyroidism',\n",
       " 'Physical Examination_Diffuse goiter',\n",
       " 'Physical Examination_Multinodular goiter',\n",
       " 'Physical Examination_Normal',\n",
       " 'Physical Examination_Single nodular goiter-left',\n",
       " 'Physical Examination_Single nodular goiter-right',\n",
       " 'Adenopathy_Bilateral',\n",
       " 'Adenopathy_Extensive',\n",
       " 'Adenopathy_Left',\n",
       " 'Adenopathy_No',\n",
       " 'Adenopathy_Posterior',\n",
       " 'Adenopathy_Right',\n",
       " 'Pathology_Follicular',\n",
       " 'Pathology_Hurthel cell',\n",
       " 'Pathology_Micropapillary',\n",
       " 'Pathology_Papillary',\n",
       " 'Focality_Multi-Focal',\n",
       " 'Focality_Uni-Focal',\n",
       " 'Risk_High',\n",
       " 'Risk_Intermediate',\n",
       " 'Risk_Low',\n",
       " 'T_T1a',\n",
       " 'T_T1b',\n",
       " 'T_T2',\n",
       " 'T_T3a',\n",
       " 'T_T3b',\n",
       " 'T_T4a',\n",
       " 'T_T4b',\n",
       " 'N_N0',\n",
       " 'N_N1a',\n",
       " 'N_N1b',\n",
       " 'M_M0',\n",
       " 'M_M1',\n",
       " 'Stage_I',\n",
       " 'Stage_II',\n",
       " 'Stage_III',\n",
       " 'Stage_IVA',\n",
       " 'Stage_IVB',\n",
       " 'Response_Biochemical Incomplete',\n",
       " 'Response_Excellent',\n",
       " 'Response_Indeterminate',\n",
       " 'Response_Structural Incomplete',\n",
       " 'Age',\n",
       " 'Recurred']"
      ]
     },
     "execution_count": 11,
     "metadata": {},
     "output_type": "execute_result"
    }
   ],
   "source": [
    "# make a list of all the feature names to use as column values in the DataFrame\n",
    "all_feature_names = list(encoded_feature_names) + columns_to_exclude\n",
    "\n",
    "all_feature_names"
   ]
  },
  {
   "cell_type": "code",
   "execution_count": 13,
   "metadata": {},
   "outputs": [
    {
     "data": {
      "text/html": [
       "<div>\n",
       "<style scoped>\n",
       "    .dataframe tbody tr th:only-of-type {\n",
       "        vertical-align: middle;\n",
       "    }\n",
       "\n",
       "    .dataframe tbody tr th {\n",
       "        vertical-align: top;\n",
       "    }\n",
       "\n",
       "    .dataframe thead th {\n",
       "        text-align: right;\n",
       "    }\n",
       "</style>\n",
       "<table border=\"1\" class=\"dataframe\">\n",
       "  <thead>\n",
       "    <tr style=\"text-align: right;\">\n",
       "      <th></th>\n",
       "      <th>Gender_F</th>\n",
       "      <th>Gender_M</th>\n",
       "      <th>Smoking_No</th>\n",
       "      <th>Smoking_Yes</th>\n",
       "      <th>Hx Smoking_No</th>\n",
       "      <th>Hx Smoking_Yes</th>\n",
       "      <th>Hx Radiothreapy_No</th>\n",
       "      <th>Hx Radiothreapy_Yes</th>\n",
       "      <th>Thyroid Function_Clinical Hyperthyroidism</th>\n",
       "      <th>Thyroid Function_Clinical Hypothyroidism</th>\n",
       "      <th>...</th>\n",
       "      <th>Stage_II</th>\n",
       "      <th>Stage_III</th>\n",
       "      <th>Stage_IVA</th>\n",
       "      <th>Stage_IVB</th>\n",
       "      <th>Response_Biochemical Incomplete</th>\n",
       "      <th>Response_Excellent</th>\n",
       "      <th>Response_Indeterminate</th>\n",
       "      <th>Response_Structural Incomplete</th>\n",
       "      <th>Age</th>\n",
       "      <th>Recurred</th>\n",
       "    </tr>\n",
       "  </thead>\n",
       "  <tbody>\n",
       "    <tr>\n",
       "      <th>0</th>\n",
       "      <td>1.0</td>\n",
       "      <td>0.0</td>\n",
       "      <td>1.0</td>\n",
       "      <td>0.0</td>\n",
       "      <td>1.0</td>\n",
       "      <td>0.0</td>\n",
       "      <td>1.0</td>\n",
       "      <td>0.0</td>\n",
       "      <td>0.0</td>\n",
       "      <td>0.0</td>\n",
       "      <td>...</td>\n",
       "      <td>0.0</td>\n",
       "      <td>0.0</td>\n",
       "      <td>0.0</td>\n",
       "      <td>0.0</td>\n",
       "      <td>0.0</td>\n",
       "      <td>0.0</td>\n",
       "      <td>1.0</td>\n",
       "      <td>0.0</td>\n",
       "      <td>27</td>\n",
       "      <td>No</td>\n",
       "    </tr>\n",
       "    <tr>\n",
       "      <th>1</th>\n",
       "      <td>1.0</td>\n",
       "      <td>0.0</td>\n",
       "      <td>1.0</td>\n",
       "      <td>0.0</td>\n",
       "      <td>0.0</td>\n",
       "      <td>1.0</td>\n",
       "      <td>1.0</td>\n",
       "      <td>0.0</td>\n",
       "      <td>0.0</td>\n",
       "      <td>0.0</td>\n",
       "      <td>...</td>\n",
       "      <td>0.0</td>\n",
       "      <td>0.0</td>\n",
       "      <td>0.0</td>\n",
       "      <td>0.0</td>\n",
       "      <td>0.0</td>\n",
       "      <td>1.0</td>\n",
       "      <td>0.0</td>\n",
       "      <td>0.0</td>\n",
       "      <td>34</td>\n",
       "      <td>No</td>\n",
       "    </tr>\n",
       "    <tr>\n",
       "      <th>2</th>\n",
       "      <td>1.0</td>\n",
       "      <td>0.0</td>\n",
       "      <td>1.0</td>\n",
       "      <td>0.0</td>\n",
       "      <td>1.0</td>\n",
       "      <td>0.0</td>\n",
       "      <td>1.0</td>\n",
       "      <td>0.0</td>\n",
       "      <td>0.0</td>\n",
       "      <td>0.0</td>\n",
       "      <td>...</td>\n",
       "      <td>0.0</td>\n",
       "      <td>0.0</td>\n",
       "      <td>0.0</td>\n",
       "      <td>0.0</td>\n",
       "      <td>0.0</td>\n",
       "      <td>1.0</td>\n",
       "      <td>0.0</td>\n",
       "      <td>0.0</td>\n",
       "      <td>30</td>\n",
       "      <td>No</td>\n",
       "    </tr>\n",
       "    <tr>\n",
       "      <th>3</th>\n",
       "      <td>1.0</td>\n",
       "      <td>0.0</td>\n",
       "      <td>1.0</td>\n",
       "      <td>0.0</td>\n",
       "      <td>1.0</td>\n",
       "      <td>0.0</td>\n",
       "      <td>1.0</td>\n",
       "      <td>0.0</td>\n",
       "      <td>0.0</td>\n",
       "      <td>0.0</td>\n",
       "      <td>...</td>\n",
       "      <td>0.0</td>\n",
       "      <td>0.0</td>\n",
       "      <td>0.0</td>\n",
       "      <td>0.0</td>\n",
       "      <td>0.0</td>\n",
       "      <td>1.0</td>\n",
       "      <td>0.0</td>\n",
       "      <td>0.0</td>\n",
       "      <td>62</td>\n",
       "      <td>No</td>\n",
       "    </tr>\n",
       "    <tr>\n",
       "      <th>4</th>\n",
       "      <td>1.0</td>\n",
       "      <td>0.0</td>\n",
       "      <td>1.0</td>\n",
       "      <td>0.0</td>\n",
       "      <td>1.0</td>\n",
       "      <td>0.0</td>\n",
       "      <td>1.0</td>\n",
       "      <td>0.0</td>\n",
       "      <td>0.0</td>\n",
       "      <td>0.0</td>\n",
       "      <td>...</td>\n",
       "      <td>0.0</td>\n",
       "      <td>0.0</td>\n",
       "      <td>0.0</td>\n",
       "      <td>0.0</td>\n",
       "      <td>0.0</td>\n",
       "      <td>1.0</td>\n",
       "      <td>0.0</td>\n",
       "      <td>0.0</td>\n",
       "      <td>62</td>\n",
       "      <td>No</td>\n",
       "    </tr>\n",
       "    <tr>\n",
       "      <th>...</th>\n",
       "      <td>...</td>\n",
       "      <td>...</td>\n",
       "      <td>...</td>\n",
       "      <td>...</td>\n",
       "      <td>...</td>\n",
       "      <td>...</td>\n",
       "      <td>...</td>\n",
       "      <td>...</td>\n",
       "      <td>...</td>\n",
       "      <td>...</td>\n",
       "      <td>...</td>\n",
       "      <td>...</td>\n",
       "      <td>...</td>\n",
       "      <td>...</td>\n",
       "      <td>...</td>\n",
       "      <td>...</td>\n",
       "      <td>...</td>\n",
       "      <td>...</td>\n",
       "      <td>...</td>\n",
       "      <td>...</td>\n",
       "      <td>...</td>\n",
       "    </tr>\n",
       "    <tr>\n",
       "      <th>378</th>\n",
       "      <td>0.0</td>\n",
       "      <td>1.0</td>\n",
       "      <td>0.0</td>\n",
       "      <td>1.0</td>\n",
       "      <td>0.0</td>\n",
       "      <td>1.0</td>\n",
       "      <td>0.0</td>\n",
       "      <td>1.0</td>\n",
       "      <td>0.0</td>\n",
       "      <td>0.0</td>\n",
       "      <td>...</td>\n",
       "      <td>0.0</td>\n",
       "      <td>0.0</td>\n",
       "      <td>0.0</td>\n",
       "      <td>1.0</td>\n",
       "      <td>1.0</td>\n",
       "      <td>0.0</td>\n",
       "      <td>0.0</td>\n",
       "      <td>0.0</td>\n",
       "      <td>72</td>\n",
       "      <td>Yes</td>\n",
       "    </tr>\n",
       "    <tr>\n",
       "      <th>379</th>\n",
       "      <td>0.0</td>\n",
       "      <td>1.0</td>\n",
       "      <td>0.0</td>\n",
       "      <td>1.0</td>\n",
       "      <td>1.0</td>\n",
       "      <td>0.0</td>\n",
       "      <td>0.0</td>\n",
       "      <td>1.0</td>\n",
       "      <td>0.0</td>\n",
       "      <td>0.0</td>\n",
       "      <td>...</td>\n",
       "      <td>0.0</td>\n",
       "      <td>0.0</td>\n",
       "      <td>0.0</td>\n",
       "      <td>1.0</td>\n",
       "      <td>0.0</td>\n",
       "      <td>0.0</td>\n",
       "      <td>0.0</td>\n",
       "      <td>1.0</td>\n",
       "      <td>81</td>\n",
       "      <td>Yes</td>\n",
       "    </tr>\n",
       "    <tr>\n",
       "      <th>380</th>\n",
       "      <td>0.0</td>\n",
       "      <td>1.0</td>\n",
       "      <td>0.0</td>\n",
       "      <td>1.0</td>\n",
       "      <td>0.0</td>\n",
       "      <td>1.0</td>\n",
       "      <td>1.0</td>\n",
       "      <td>0.0</td>\n",
       "      <td>0.0</td>\n",
       "      <td>0.0</td>\n",
       "      <td>...</td>\n",
       "      <td>0.0</td>\n",
       "      <td>0.0</td>\n",
       "      <td>0.0</td>\n",
       "      <td>1.0</td>\n",
       "      <td>0.0</td>\n",
       "      <td>0.0</td>\n",
       "      <td>0.0</td>\n",
       "      <td>1.0</td>\n",
       "      <td>72</td>\n",
       "      <td>Yes</td>\n",
       "    </tr>\n",
       "    <tr>\n",
       "      <th>381</th>\n",
       "      <td>0.0</td>\n",
       "      <td>1.0</td>\n",
       "      <td>0.0</td>\n",
       "      <td>1.0</td>\n",
       "      <td>0.0</td>\n",
       "      <td>1.0</td>\n",
       "      <td>0.0</td>\n",
       "      <td>1.0</td>\n",
       "      <td>1.0</td>\n",
       "      <td>0.0</td>\n",
       "      <td>...</td>\n",
       "      <td>0.0</td>\n",
       "      <td>0.0</td>\n",
       "      <td>1.0</td>\n",
       "      <td>0.0</td>\n",
       "      <td>0.0</td>\n",
       "      <td>0.0</td>\n",
       "      <td>0.0</td>\n",
       "      <td>1.0</td>\n",
       "      <td>61</td>\n",
       "      <td>Yes</td>\n",
       "    </tr>\n",
       "    <tr>\n",
       "      <th>382</th>\n",
       "      <td>0.0</td>\n",
       "      <td>1.0</td>\n",
       "      <td>0.0</td>\n",
       "      <td>1.0</td>\n",
       "      <td>1.0</td>\n",
       "      <td>0.0</td>\n",
       "      <td>1.0</td>\n",
       "      <td>0.0</td>\n",
       "      <td>0.0</td>\n",
       "      <td>0.0</td>\n",
       "      <td>...</td>\n",
       "      <td>0.0</td>\n",
       "      <td>0.0</td>\n",
       "      <td>1.0</td>\n",
       "      <td>0.0</td>\n",
       "      <td>0.0</td>\n",
       "      <td>0.0</td>\n",
       "      <td>0.0</td>\n",
       "      <td>1.0</td>\n",
       "      <td>67</td>\n",
       "      <td>Yes</td>\n",
       "    </tr>\n",
       "  </tbody>\n",
       "</table>\n",
       "<p>383 rows × 56 columns</p>\n",
       "</div>"
      ],
      "text/plain": [
       "    Gender_F Gender_M Smoking_No Smoking_Yes Hx Smoking_No Hx Smoking_Yes  \\\n",
       "0        1.0      0.0        1.0         0.0           1.0            0.0   \n",
       "1        1.0      0.0        1.0         0.0           0.0            1.0   \n",
       "2        1.0      0.0        1.0         0.0           1.0            0.0   \n",
       "3        1.0      0.0        1.0         0.0           1.0            0.0   \n",
       "4        1.0      0.0        1.0         0.0           1.0            0.0   \n",
       "..       ...      ...        ...         ...           ...            ...   \n",
       "378      0.0      1.0        0.0         1.0           0.0            1.0   \n",
       "379      0.0      1.0        0.0         1.0           1.0            0.0   \n",
       "380      0.0      1.0        0.0         1.0           0.0            1.0   \n",
       "381      0.0      1.0        0.0         1.0           0.0            1.0   \n",
       "382      0.0      1.0        0.0         1.0           1.0            0.0   \n",
       "\n",
       "    Hx Radiothreapy_No Hx Radiothreapy_Yes  \\\n",
       "0                  1.0                 0.0   \n",
       "1                  1.0                 0.0   \n",
       "2                  1.0                 0.0   \n",
       "3                  1.0                 0.0   \n",
       "4                  1.0                 0.0   \n",
       "..                 ...                 ...   \n",
       "378                0.0                 1.0   \n",
       "379                0.0                 1.0   \n",
       "380                1.0                 0.0   \n",
       "381                0.0                 1.0   \n",
       "382                1.0                 0.0   \n",
       "\n",
       "    Thyroid Function_Clinical Hyperthyroidism  \\\n",
       "0                                         0.0   \n",
       "1                                         0.0   \n",
       "2                                         0.0   \n",
       "3                                         0.0   \n",
       "4                                         0.0   \n",
       "..                                        ...   \n",
       "378                                       0.0   \n",
       "379                                       0.0   \n",
       "380                                       0.0   \n",
       "381                                       1.0   \n",
       "382                                       0.0   \n",
       "\n",
       "    Thyroid Function_Clinical Hypothyroidism  ... Stage_II Stage_III  \\\n",
       "0                                        0.0  ...      0.0       0.0   \n",
       "1                                        0.0  ...      0.0       0.0   \n",
       "2                                        0.0  ...      0.0       0.0   \n",
       "3                                        0.0  ...      0.0       0.0   \n",
       "4                                        0.0  ...      0.0       0.0   \n",
       "..                                       ...  ...      ...       ...   \n",
       "378                                      0.0  ...      0.0       0.0   \n",
       "379                                      0.0  ...      0.0       0.0   \n",
       "380                                      0.0  ...      0.0       0.0   \n",
       "381                                      0.0  ...      0.0       0.0   \n",
       "382                                      0.0  ...      0.0       0.0   \n",
       "\n",
       "    Stage_IVA Stage_IVB Response_Biochemical Incomplete Response_Excellent  \\\n",
       "0         0.0       0.0                             0.0                0.0   \n",
       "1         0.0       0.0                             0.0                1.0   \n",
       "2         0.0       0.0                             0.0                1.0   \n",
       "3         0.0       0.0                             0.0                1.0   \n",
       "4         0.0       0.0                             0.0                1.0   \n",
       "..        ...       ...                             ...                ...   \n",
       "378       0.0       1.0                             1.0                0.0   \n",
       "379       0.0       1.0                             0.0                0.0   \n",
       "380       0.0       1.0                             0.0                0.0   \n",
       "381       1.0       0.0                             0.0                0.0   \n",
       "382       1.0       0.0                             0.0                0.0   \n",
       "\n",
       "    Response_Indeterminate Response_Structural Incomplete Age Recurred  \n",
       "0                      1.0                            0.0  27       No  \n",
       "1                      0.0                            0.0  34       No  \n",
       "2                      0.0                            0.0  30       No  \n",
       "3                      0.0                            0.0  62       No  \n",
       "4                      0.0                            0.0  62       No  \n",
       "..                     ...                            ...  ..      ...  \n",
       "378                    0.0                            0.0  72      Yes  \n",
       "379                    0.0                            1.0  81      Yes  \n",
       "380                    0.0                            1.0  72      Yes  \n",
       "381                    0.0                            1.0  61      Yes  \n",
       "382                    0.0                            1.0  67      Yes  \n",
       "\n",
       "[383 rows x 56 columns]"
      ]
     },
     "execution_count": 13,
     "metadata": {},
     "output_type": "execute_result"
    }
   ],
   "source": [
    "# create a dataframe using the transformed data with column names from the all_feature_names list\n",
    "transformed_df = pd.DataFrame(transformed_data, columns=all_feature_names)\n",
    "\n",
    "transformed_df"
   ]
  },
  {
   "cell_type": "code",
   "execution_count": 14,
   "metadata": {},
   "outputs": [
    {
     "data": {
      "text/plain": [
       "(383, 56)"
      ]
     },
     "execution_count": 14,
     "metadata": {},
     "output_type": "execute_result"
    }
   ],
   "source": [
    "# inspect the shape of the transformed dataframe\n",
    "transformed_df.shape"
   ]
  },
  {
   "cell_type": "markdown",
   "metadata": {},
   "source": [
    "### Data preprocessing (split data into training and testing data)"
   ]
  },
  {
   "cell_type": "code",
   "execution_count": 11,
   "metadata": {},
   "outputs": [],
   "source": [
    "# split the transformed dataframe into a features dataframe and target series\n",
    "\n",
    "\n",
    "# inspect feature dataframe\n"
   ]
  },
  {
   "cell_type": "code",
   "execution_count": 12,
   "metadata": {},
   "outputs": [],
   "source": [
    "# inspect target series\n"
   ]
  },
  {
   "cell_type": "code",
   "execution_count": 13,
   "metadata": {},
   "outputs": [],
   "source": [
    "# split into training and testing sets. The training set should have 283 samples, and the testing set should have 100 samples\n"
   ]
  },
  {
   "cell_type": "code",
   "execution_count": 14,
   "metadata": {},
   "outputs": [],
   "source": [
    "# validate that the training and testing sets have the correct number of samples\n"
   ]
  },
  {
   "cell_type": "markdown",
   "metadata": {},
   "source": [
    "### Using the training data to perform grid search to find the best hyperparameters"
   ]
  },
  {
   "cell_type": "code",
   "execution_count": 15,
   "metadata": {},
   "outputs": [],
   "source": [
    "# Define the parameter grid\n"
   ]
  },
  {
   "cell_type": "code",
   "execution_count": 16,
   "metadata": {},
   "outputs": [],
   "source": [
    "# Initialize the RandomForestClassifier\n",
    "\n",
    "\n",
    "# Initialize the GridSearchCV object\n",
    "\n",
    "\n",
    "# Fit the GridSearchCV object to your data (X_train, y_train)\n",
    "\n"
   ]
  },
  {
   "cell_type": "code",
   "execution_count": 17,
   "metadata": {},
   "outputs": [],
   "source": [
    "# Get and print the best parameters found by the GridSearchCV using the best_params_\n"
   ]
  },
  {
   "cell_type": "code",
   "execution_count": 18,
   "metadata": {},
   "outputs": [],
   "source": [
    "# Get the accuracy score of the model with the best parameters\n"
   ]
  },
  {
   "cell_type": "markdown",
   "metadata": {},
   "source": [
    "### Train a model using the best set of hyperparameters"
   ]
  },
  {
   "cell_type": "code",
   "execution_count": 19,
   "metadata": {},
   "outputs": [],
   "source": [
    "# Initialize a new RandomForestClassifier model with the best parameters\n",
    "\n",
    "\n",
    "# Fit the model on your training data\n"
   ]
  },
  {
   "cell_type": "markdown",
   "metadata": {},
   "source": [
    "### Test the model with the testing data"
   ]
  },
  {
   "cell_type": "code",
   "execution_count": 20,
   "metadata": {},
   "outputs": [],
   "source": [
    "# use the score function to get the accuracy of the model on the testing data\n"
   ]
  },
  {
   "cell_type": "markdown",
   "metadata": {},
   "source": [
    "### Get a plot the feature importances"
   ]
  },
  {
   "cell_type": "code",
   "execution_count": 21,
   "metadata": {},
   "outputs": [],
   "source": [
    "# create a dataframe of the feature importances\n",
    "\n",
    "\n",
    "# sort the dataframe so the most important features are at the top\n"
   ]
  },
  {
   "cell_type": "code",
   "execution_count": 22,
   "metadata": {},
   "outputs": [],
   "source": [
    "# plot the feature importances as a bar chart using .plot.bar()\n"
   ]
  }
 ],
 "metadata": {
  "kernelspec": {
   "display_name": "venv",
   "language": "python",
   "name": "python3"
  },
  "language_info": {
   "codemirror_mode": {
    "name": "ipython",
    "version": 3
   },
   "file_extension": ".py",
   "mimetype": "text/x-python",
   "name": "python",
   "nbconvert_exporter": "python",
   "pygments_lexer": "ipython3",
   "version": "3.10.2"
  }
 },
 "nbformat": 4,
 "nbformat_minor": 2
}
